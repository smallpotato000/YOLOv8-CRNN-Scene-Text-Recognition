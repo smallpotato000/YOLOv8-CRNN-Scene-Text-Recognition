{
 "cells": [
  {
   "cell_type": "code",
   "execution_count": null,
   "id": "6acbf7e8",
   "metadata": {},
   "outputs": [],
   "source": [
    "import json\n",
    "import shutil\n",
    "import pandas as pd"
   ]
  },
  {
   "cell_type": "code",
   "execution_count": null,
   "id": "17838ab1",
   "metadata": {},
   "outputs": [],
   "source": [
    "lines = []\n",
    "split='test'\n",
    "src_img_dir='./test_images'\n",
    "\n",
    "with open(split+'.jsonl','r') as f:\n",
    "    lines = f.read().splitlines()\n",
    "\n",
    "line_dicts = [json.loads(line) for line in lines]\n",
    "df = pd.DataFrame(line_dicts)\n",
    "\n",
    "imgs = df.loc[:,['file_name','image_id','width','height']]\n",
    "#imgs_dict=imgs.set_index('image_id').T.to_dict('list')\n",
    "#imgs\n"
   ]
  },
  {
   "cell_type": "code",
   "execution_count": null,
   "id": "088cf0f1",
   "metadata": {},
   "outputs": [],
   "source": [
    "annot_lines = df.loc[:,['image_id','annotations']]\n",
    "annot_lines.reset_index()\n",
    "\n",
    "annots = {}\n",
    "\n",
    "for index, row in annot_lines.iterrows():\n",
    "    image_id=str(row['image_id'])\n",
    "    annots[image_id]=[]\n",
    "    foo=imgs.query(\"image_id==\\'\" + image_id+\"\\'\")\n",
    "    img_w=int(foo['width'].iloc[0])\n",
    "    img_h=int(foo['height'].iloc[0])\n",
    "    f=open(split+'/labels/'+image_id+'.txt', 'w')\n",
    "    for row_jsons in row['annotations']:\n",
    "        #print(row_jsons)\n",
    "        for row_json in row_jsons:\n",
    "            #annots[str(row['image_id'])].append(row_json['adjusted_bbox'])\n",
    "            x,y,w,h = row_json['adjusted_bbox']\n",
    "            box=[float(x) / img_w + 0.5 * (float(w) / img_w),\n",
    "                float(y) / img_h + 0.5 * (float(h) / img_h),\n",
    "                float(w) / img_w, \n",
    "                float(h) / img_h]\n",
    "            annots[image_id].append(box)\n",
    "            if all(x >= 0 for x in box):\n",
    "                box_str = '0 ' + ' '.join(map(str, box))\n",
    "                f.write(box_str + '\\n')\n",
    "    f.close()\n",
    "    src_img_path = src_img_dir +'/'+image_id+'.jpg'\n",
    "    dst_img_path = split+'/images/'+image_id+'.jpg'\n",
    "    shutil.copy(src_img_path, dst_img_path)"
   ]
  },
  {
   "cell_type": "code",
   "execution_count": null,
   "id": "eaa38d7a",
   "metadata": {},
   "outputs": [],
   "source": []
  }
 ],
 "metadata": {
  "kernelspec": {
   "display_name": "transformers",
   "language": "python",
   "name": "python3"
  },
  "language_info": {
   "codemirror_mode": {
    "name": "ipython",
    "version": 3
   },
   "file_extension": ".py",
   "mimetype": "text/x-python",
   "name": "python",
   "nbconvert_exporter": "python",
   "pygments_lexer": "ipython3",
   "version": "3.10.14"
  }
 },
 "nbformat": 4,
 "nbformat_minor": 5
}
